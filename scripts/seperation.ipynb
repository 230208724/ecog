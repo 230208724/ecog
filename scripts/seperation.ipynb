{
 "cells": [
  {
   "cell_type": "code",
   "execution_count": 1,
   "metadata": {},
   "outputs": [],
   "source": [
    "import sys\n",
    "import os,glob\n",
    "import pandas as pd\n",
    "\n",
    "shareDir = os.path.abspath('../..')\n",
    "sys.path.append(shareDir)\n",
    "from bciBASE.server import EEG_data\n",
    "\n",
    "scriptsDir = os.path.abspath('.')\n",
    "presentationsDir = os.path.abspath(rf'{scriptsDir}/../presentation')\n",
    "mannualDataDir = os.path.abspath(rf'{scriptsDir}/../manualData')"
   ]
  },
  {
   "cell_type": "markdown",
   "metadata": {},
   "source": [
    "# generation of true labelled fist_rest data"
   ]
  },
  {
   "cell_type": "code",
   "execution_count": null,
   "metadata": {},
   "outputs": [
    {
     "name": "stdout",
     "output_type": "stream",
     "text": [
      "Complete initial!\n",
      "\n",
      "h:\\BCIteam_Allrelated\\SharedSource\\ecog\\manualData/fist/JMF\\60s70s68s.mat\n",
      "  date   \n",
      "7   -1  \\\n",
      "\n",
      "  info((hypothesis that all operations are for left tumor and all actions are on right))   \n",
      "7                                  唤醒下左额顶开颅术：连续握拳1分钟                                      \\\n",
      "\n",
      "  predictedtime paradigm subject subjectid  age  sexual               tumor   \n",
      "7           60s     fist     JMF    sub006   53  female  left top forehead'  \\\n",
      "\n",
      "   epilepsy      data time  freq   \n",
      "7         1  32x35000  70s   500  \\\n",
      "\n",
      "                                             channel  \n",
      "7  ['s6c1','s6c2','s6e1','s6e2','s6e3','s6e4','s6...  \n",
      "<Info | 7 non-empty values\n",
      " bads: []\n",
      " ch_names: s6c1, s6c2, s6e1, s6e2, s6e3, s6e4, s6e5, s6e6, s6e7\n",
      " chs: 9 EEG\n",
      " custom_ref_applied: False\n",
      " highpass: 0.0 Hz\n",
      " lowpass: 250.0 Hz\n",
      " meas_date: unspecified\n",
      " nchan: 9\n",
      " projs: []\n",
      " sfreq: 500.0 Hz\n",
      ">\n"
     ]
    }
   ],
   "source": [
    "paradigm = 'fist'\n",
    "subject = 'JMF'\n",
    "fistDataMATFile = glob.glob(rf'{mannualDataDir}/{paradigm}/{subject}/*.mat')[0]\n",
    "fistDataFDTFile = fistDataMATFile.replace('.mat','.fdt')\n",
    "if not os.path.exists(fistDataFDTFile): raise\n",
    "fistDataSETFile = fistDataFDTFile.replace('.mat','.set')\n",
    "if not os.path.exists(fistDataSETFile): raise\n",
    "\n",
    "infoFile = rf'{presentationsDir}/info.xlsx'\n",
    "infoDf = pd.read_excel(infoFile)\n",
    "info = infoDf[(infoDf['subject']==subject)&(infoDf['paradigm']==paradigm)]\n",
    "channel = eval(info['channel'].values[0])\n",
    "fistData = EEG_data(data=fistDataMATFile,ch_names=channel,sfreq=500,\n",
    "                    flag_fmin=1,flag_fmax=100,flag_nf=[50])\n",
    "\n",
    "print(fistDataMATFile)\n",
    "print(info)\n",
    "print(fistData.info)\n"
   ]
  }
 ],
 "metadata": {
  "kernelspec": {
   "display_name": "pytorch",
   "language": "python",
   "name": "python3"
  },
  "language_info": {
   "codemirror_mode": {
    "name": "ipython",
    "version": 3
   },
   "file_extension": ".py",
   "mimetype": "text/x-python",
   "name": "python",
   "nbconvert_exporter": "python",
   "pygments_lexer": "ipython3",
   "version": "3.8.15"
  }
 },
 "nbformat": 4,
 "nbformat_minor": 2
}
